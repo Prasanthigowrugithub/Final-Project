{
 "cells": [
  {
   "cell_type": "code",
   "execution_count": null,
   "id": "8b3a291d",
   "metadata": {},
   "outputs": [
    {
     "name": "stdout",
     "output_type": "stream",
     "text": [
      "##### MENU #####\n",
      "Tandoori Chicken, Vegan Burger, Truffle Cake\n"
     ]
    }
   ],
   "source": [
    "print(\"##### MENU #####\")\n",
    "print('''Tandoori Chicken, Vegan Burger, Truffle Cake''')\n",
    "item = input(\"Please Enter your item want to place order:\")\n",
    "if(item ==\"TC4\" or item==\" Tandoori Chicken (4 pieces) [INR 240]\"):\n",
    "    print(\"Tandoori Chicken (4 pieces)\")\n",
    "elif(item ==\"TC2\" or item==\" Tandoori Chicken (2 pieces) [INR 120]\"):\n",
    "    print(\"Tandoori Chicken (2 pieces)\")   \n",
    "elif(item ==\"VB1\" or item==\" Vegan Burger (1 Piece) [INR 320]\"):\n",
    "    print(\"Vegan Burger (1 Piece)\")\n",
    "elif(item ==\"VB2\" or item==\" Vegan Burger (2 Pieces) [INR 640]\"):\n",
    "    print(\"Vegan Burger (2 Pieces)\")\n",
    "elif(item ==\"TC500\" or item==\" Truffle Cake (500gm) [INR 900]\"):\n",
    "    print(\"Truffle Cake (500gm)\")\n",
    "elif(item ==\"TC250\" or item==\" Truffle Cake (500gm) [INR 450]\"):\n",
    "    print(\"Truffle Cake (250gm)\")\n",
    "    \n",
    "cost = float(input(\"Enter cost price :\")) \n",
    "discount = int(input(\"Enter discount price :\"))\n",
    "salePrice = (discount / cost) * 100\n",
    "\n",
    "print (\"Discount is \",discount)\n",
    "print(\"Sale price is \",salePrice)\n",
    "\n",
    "a = True\n",
    "while a:\n",
    "    \n",
    "    print('''\n",
    "        1.Add an items\n",
    "        2.Remove items\n",
    "        3.Exit\n",
    "    ''')\n",
    "\n",
    "\n",
    "    choice = int(input('enter your choice:'))\n",
    "    choices =[1,2,3]\n",
    "    if choice in choices: \n",
    "        if choice == a: \n",
    "            items = {'''Tandoori Chicken, Vegan Burger, Truffle Cake'''}\n",
    "            Add_an_items = (input(\"Enter less stock product name :\"))\n",
    "            Add_quantity = (input(\"Enter the present quantity in the resturant :\"))\n",
    "            Add_amount_left = (input(\"Enter the amount left in the resturant :\"))\n",
    "            Add_price = (input(\"Enter the price of the item :\"))\n",
    "            \n",
    "            \n",
    "b = True\n",
    "while b:\n",
    "        if choice == 2:\n",
    "            Remove_items = (input(items.remove(\"Enter the remove item name:\")))\n",
    "                \n",
    "                \n",
    "\n",
    "c = false\n",
    "while c:\n",
    "        if choice == 3:\n",
    "            print(\"Exit\")\n",
    "            \n",
    "            \n",
    "## user\n",
    "\n",
    "Language = input('Choose the Language:')\n",
    "Login = input('Email:')\n",
    "Password = input('Password:')\n",
    "Account = input('Sign in / New account:')\n",
    "Profile_ID = input('Enter User ID:')\n",
    "Password = input('Create Password:')\n",
    "Verify_Password = input('Verify_Password:')\n",
    "print(\"Proceed\")\n",
    "Contact_no = input('Enter your contact info:')\n",
    "OTP = input('Enter your mobile OTP:')\n",
    "print(\"Proceed\")\n",
    "Login = input('Enter your full name:')\n",
    "print(\"Next\")\n",
    "Location = input('Set Delivery Location:')\n",
    "City = input('Select City:')\n",
    "print(\"Proceed\")"
   ]
  },
  {
   "cell_type": "code",
   "execution_count": null,
   "id": "f8471f98",
   "metadata": {},
   "outputs": [],
   "source": []
  }
 ],
 "metadata": {
  "kernelspec": {
   "display_name": "Python 3 (ipykernel)",
   "language": "python",
   "name": "python3"
  },
  "language_info": {
   "codemirror_mode": {
    "name": "ipython",
    "version": 3
   },
   "file_extension": ".py",
   "mimetype": "text/x-python",
   "name": "python",
   "nbconvert_exporter": "python",
   "pygments_lexer": "ipython3",
   "version": "3.10.6"
  }
 },
 "nbformat": 4,
 "nbformat_minor": 5
}
